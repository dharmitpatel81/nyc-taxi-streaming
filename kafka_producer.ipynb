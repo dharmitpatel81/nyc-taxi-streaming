{
 "cells": [
  {
   "cell_type": "code",
   "execution_count": 1,
   "id": "68138866",
   "metadata": {},
   "outputs": [],
   "source": [
    "import os\n",
    "import boto3\n",
    "import json\n",
    "import pandas as pd\n",
    "from io import BytesIO\n",
    "from kafka import KafkaProducer\n",
    "from pyspark.sql import SparkSession\n",
    "import datetime\n",
    "import json"
   ]
  },
  {
   "cell_type": "code",
   "execution_count": null,
   "id": "55a866a0",
   "metadata": {},
   "outputs": [],
   "source": [
    "# 1️⃣ Set AWS credentials\n",
    "aws_key = os.getenv(\"AWS_ACCESS_KEY\")\n",
    "aws_secret = os.getenv(\"AWS_SECRET_ACCESS_KEY\")\n",
    "\n",
    "# 2️⃣ Boto3 S3 Client\n",
    "s3 = boto3.client(\n",
    "    's3',\n",
    "    aws_access_key_id=aws_key,\n",
    "    aws_secret_access_key=aws_secret\n",
    ")\n",
    "\n",
    "bucket = \"nyc-taxi-streaming\"\n",
    "prefix = \"stream-data/\"\n",
    "\n",
    "# 3️⃣ Kafka Producer Setup\n",
    "# Custom serializer\n",
    "def json_serializer(obj):\n",
    "    if isinstance(obj, (datetime.datetime, datetime.date)):\n",
    "        return obj.isoformat()\n",
    "    raise TypeError(f\"Type {type(obj)} not serializable\")\n",
    "\n",
    "producer = KafkaProducer(\n",
    "    bootstrap_servers='localhost:9092',\n",
    "    value_serializer=lambda v: json.dumps(v, default=json_serializer).encode('utf-8')\n",
    ")\n",
    "\n",
    "\n",
    "topic = \"taxi-trips-topic\""
   ]
  },
  {
   "cell_type": "code",
   "execution_count": 3,
   "id": "08e44a61",
   "metadata": {},
   "outputs": [
    {
     "name": "stderr",
     "output_type": "stream",
     "text": [
      "25/04/25 19:34:31 WARN Utils: Your hostname, Ubuntu resolves to a loopback address: 127.0.1.1; using 10.0.2.15 instead (on interface enp0s3)\n",
      "25/04/25 19:34:31 WARN Utils: Set SPARK_LOCAL_IP if you need to bind to another address\n",
      "Setting default log level to \"WARN\".\n",
      "To adjust logging level use sc.setLogLevel(newLevel). For SparkR, use setLogLevel(newLevel).\n",
      "25/04/25 19:34:33 WARN NativeCodeLoader: Unable to load native-hadoop library for your platform... using builtin-java classes where applicable\n",
      "25/04/25 19:34:35 WARN Utils: Service 'SparkUI' could not bind on port 4040. Attempting port 4041.\n"
     ]
    }
   ],
   "source": [
    "# 4️⃣ SparkSession (for downstream transformations)\n",
    "spark = SparkSession.builder.appName(\"TaxiProducer\").getOrCreate()\n",
    "\n",
    "# 5️⃣ List all parquet objects in S3 under the prefix\n",
    "response = s3.list_objects_v2(Bucket=bucket, Prefix=prefix)"
   ]
  },
  {
   "cell_type": "code",
   "execution_count": 8,
   "id": "16dc9b0e",
   "metadata": {},
   "outputs": [
    {
     "name": "stdout",
     "output_type": "stream",
     "text": [
      "Processing: stream-data/green_tripdata_2022-01.parquet\n",
      "Processing: stream-data/green_tripdata_2022-02.parquet\n",
      "Processing: stream-data/green_tripdata_2022-03.parquet\n",
      "Processing: stream-data/green_tripdata_2022-04.parquet\n",
      "Processing: stream-data/green_tripdata_2022-05.parquet\n",
      "Processing: stream-data/green_tripdata_2022-06.parquet\n",
      "Processing: stream-data/green_tripdata_2022-07.parquet\n",
      "Processing: stream-data/green_tripdata_2022-08.parquet\n",
      "Processing: stream-data/green_tripdata_2022-09.parquet\n",
      "Processing: stream-data/green_tripdata_2022-10.parquet\n"
     ]
    },
    {
     "name": "stderr",
     "output_type": "stream",
     "text": [
      "[Stage 926:>                                                        (0 + 1) / 1]\r"
     ]
    },
    {
     "name": "stdout",
     "output_type": "stream",
     "text": [
      "Processing: stream-data/green_tripdata_2022-11.parquet\n",
      "Processing: stream-data/green_tripdata_2022-12.parquet\n",
      "Processing: stream-data/green_tripdata_2023-01.parquet\n"
     ]
    },
    {
     "name": "stderr",
     "output_type": "stream",
     "text": [
      "[Stage 937:>                                                        (0 + 1) / 1]\r"
     ]
    },
    {
     "name": "stdout",
     "output_type": "stream",
     "text": [
      "Processing: stream-data/green_tripdata_2023-02.parquet\n",
      "Processing: stream-data/green_tripdata_2023-03.parquet\n"
     ]
    },
    {
     "name": "stderr",
     "output_type": "stream",
     "text": [
      "[Stage 947:>                                                        (0 + 1) / 1]\r"
     ]
    },
    {
     "name": "stdout",
     "output_type": "stream",
     "text": [
      "Processing: stream-data/green_tripdata_2023-04.parquet\n",
      "Processing: stream-data/green_tripdata_2023-05.parquet\n"
     ]
    },
    {
     "name": "stderr",
     "output_type": "stream",
     "text": [
      "[Stage 954:>                                                        (0 + 1) / 1]\r"
     ]
    },
    {
     "name": "stdout",
     "output_type": "stream",
     "text": [
      "Processing: stream-data/green_tripdata_2023-06.parquet\n",
      "Processing: stream-data/green_tripdata_2023-07.parquet\n",
      "Processing: stream-data/green_tripdata_2023-08.parquet\n",
      "Processing: stream-data/green_tripdata_2023-09.parquet\n",
      "Processing: stream-data/green_tripdata_2023-10.parquet\n"
     ]
    },
    {
     "name": "stderr",
     "output_type": "stream",
     "text": [
      "[Stage 972:>                                                        (0 + 1) / 1]\r"
     ]
    },
    {
     "name": "stdout",
     "output_type": "stream",
     "text": [
      "Processing: stream-data/green_tripdata_2023-11.parquet\n",
      "Processing: stream-data/green_tripdata_2023-12.parquet\n",
      "Processing: stream-data/green_tripdata_2024-01.parquet\n",
      "Processing: stream-data/green_tripdata_2024-02.parquet\n",
      "Processing: stream-data/green_tripdata_2024-03.parquet\n",
      "Processing: stream-data/green_tripdata_2024-04.parquet\n",
      "Processing: stream-data/green_tripdata_2024-05.parquet\n",
      "Processing: stream-data/green_tripdata_2024-06.parquet\n",
      "Processing: stream-data/green_tripdata_2024-07.parquet\n",
      "Processing: stream-data/green_tripdata_2024-08.parquet\n",
      "Processing: stream-data/green_tripdata_2024-09.parquet\n",
      "Processing: stream-data/green_tripdata_2024-10.parquet\n",
      "Processing: stream-data/green_tripdata_2024-11.parquet\n",
      "Processing: stream-data/green_tripdata_2024-12.parquet\n",
      "Processing: stream-data/green_tripdata_2025-01.parquet\n",
      "Processing: stream-data/yellow_tripdata_2022-01.parquet\n",
      "Processing: stream-data/yellow_tripdata_2022-02.parquet\n",
      "Processing: stream-data/yellow_tripdata_2022-03.parquet\n",
      "Processing: stream-data/yellow_tripdata_2022-04.parquet\n",
      "Processing: stream-data/yellow_tripdata_2022-05.parquet\n",
      "Processing: stream-data/yellow_tripdata_2022-06.parquet\n",
      "Processing: stream-data/yellow_tripdata_2022-07.parquet\n",
      "Processing: stream-data/yellow_tripdata_2022-08.parquet\n",
      "Processing: stream-data/yellow_tripdata_2022-09.parquet\n",
      "Processing: stream-data/yellow_tripdata_2022-10.parquet\n",
      "Processing: stream-data/yellow_tripdata_2022-11.parquet\n",
      "Processing: stream-data/yellow_tripdata_2022-12.parquet\n",
      "Processing: stream-data/yellow_tripdata_2023-01.parquet\n",
      "Processing: stream-data/yellow_tripdata_2023-02.parquet\n",
      "Processing: stream-data/yellow_tripdata_2023-03.parquet\n",
      "Processing: stream-data/yellow_tripdata_2023-04.parquet\n",
      "Processing: stream-data/yellow_tripdata_2023-05.parquet\n",
      "Processing: stream-data/yellow_tripdata_2023-06.parquet\n",
      "Processing: stream-data/yellow_tripdata_2023-07.parquet\n",
      "Processing: stream-data/yellow_tripdata_2023-08.parquet\n",
      "Processing: stream-data/yellow_tripdata_2023-09.parquet\n",
      "Processing: stream-data/yellow_tripdata_2023-10.parquet\n",
      "Processing: stream-data/yellow_tripdata_2023-11.parquet\n",
      "Processing: stream-data/yellow_tripdata_2023-12.parquet\n",
      "Processing: stream-data/yellow_tripdata_2024-01.parquet\n",
      "Processing: stream-data/yellow_tripdata_2024-02.parquet\n",
      "Processing: stream-data/yellow_tripdata_2024-03.parquet\n",
      "Processing: stream-data/yellow_tripdata_2024-04.parquet\n",
      "Processing: stream-data/yellow_tripdata_2024-05.parquet\n",
      "Processing: stream-data/yellow_tripdata_2024-06.parquet\n",
      "Processing: stream-data/yellow_tripdata_2024-07.parquet\n",
      "Processing: stream-data/yellow_tripdata_2024-08.parquet\n",
      "Processing: stream-data/yellow_tripdata_2024-09.parquet\n",
      "Processing: stream-data/yellow_tripdata_2024-10.parquet\n",
      "Processing: stream-data/yellow_tripdata_2024-11.parquet\n"
     ]
    },
    {
     "name": "stderr",
     "output_type": "stream",
     "text": [
      "[Stage 1174:>                                                       (0 + 1) / 1]\r"
     ]
    },
    {
     "name": "stdout",
     "output_type": "stream",
     "text": [
      "Processing: stream-data/yellow_tripdata_2024-12.parquet\n"
     ]
    },
    {
     "name": "stderr",
     "output_type": "stream",
     "text": [
      "[Stage 1176:>                                                       (0 + 1) / 1]\r"
     ]
    },
    {
     "name": "stdout",
     "output_type": "stream",
     "text": [
      "Processing: stream-data/yellow_tripdata_2025-01.parquet\n",
      "✅ Data streaming complete.\n"
     ]
    }
   ],
   "source": [
    "import time\n",
    "# Iterate over each object and stream to Kafka\n",
    "for obj in response.get(\"Contents\", []):\n",
    "    key = obj[\"Key\"]\n",
    "    if key.endswith(\".parquet\"):\n",
    "        print(f\"Processing: {key}\")\n",
    "        \n",
    "        obj_body = s3.get_object(Bucket=bucket, Key=key)['Body'].read()\n",
    "        pdf = pd.read_parquet(BytesIO(obj_body))\n",
    "        \n",
    "        # Sample first 1000 rows (avoid huge loads)\n",
    "        pdf_sample = pdf.head(500).dropna(axis=1, how='all')\n",
    "        sdf = spark.createDataFrame(pdf_sample)  # Safe after dropping null-only columns\n",
    "\n",
    "        \n",
    "        # Stream each row to Kafka\n",
    "        for row in sdf.toLocalIterator():\n",
    "            producer.send(topic, value=row.asDict())\n",
    "            #time.sleep(0.01)\n",
    "            time.sleep(0.5)\n",
    "\n",
    "print(\"✅ Data streaming complete.\")"
   ]
  }
 ],
 "metadata": {
  "kernelspec": {
   "display_name": "PySpark Notebook",
   "language": "python",
   "name": "pyspark-env"
  },
  "language_info": {
   "codemirror_mode": {
    "name": "ipython",
    "version": 3
   },
   "file_extension": ".py",
   "mimetype": "text/x-python",
   "name": "python",
   "nbconvert_exporter": "python",
   "pygments_lexer": "ipython3",
   "version": "3.12.3"
  }
 },
 "nbformat": 4,
 "nbformat_minor": 5
}
