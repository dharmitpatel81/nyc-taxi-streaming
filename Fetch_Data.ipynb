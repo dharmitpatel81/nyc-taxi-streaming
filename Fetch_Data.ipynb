{
 "cells": [
  {
   "cell_type": "code",
   "execution_count": null,
   "id": "f0790261",
   "metadata": {},
   "outputs": [],
   "source": [
    "import os\n",
    "import urllib.request\n",
    "\n",
    "categories = ['yellow', 'green']\n",
    "BASE_PATH = \"https://d37ci6vzurychx.cloudfront.net/trip-data/\"\n",
    "DOWNLOAD_DIR = \"nyc_taxi_data\"\n",
    "\n",
    "os.makedirs(DOWNLOAD_DIR, exist_ok=True)\n",
    "\n",
    "for year in range(2022, 2026):\n",
    "    for month in range(1, 13):\n",
    "        for category in categories:\n",
    "            filename = f\"{category}_tripdata_{year}-{month:02d}.parquet\"\n",
    "            url = f\"{BASE_PATH}{filename}\"\n",
    "            file_path = os.path.join(DOWNLOAD_DIR, filename)\n",
    "            try:\n",
    "                urllib.request.urlretrieve(url, file_path)\n",
    "                print(f\"✅ Downloaded: {filename}\")\n",
    "            except Exception as e:\n",
    "                print(f\"❌ Failed: {filename} — {e}\")\n"
   ]
  }
 ],
 "metadata": {
  "language_info": {
   "name": "python"
  }
 },
 "nbformat": 4,
 "nbformat_minor": 5
}
